{
 "cells": [
  {
   "cell_type": "code",
   "execution_count": 6,
   "metadata": {},
   "outputs": [
    {
     "name": "stdout",
     "output_type": "stream",
     "text": [
      "Requirement already satisfied: opencv-python in c:\\users\\pushkin\\3dobjects\\lib\\site-packages (4.8.0.74)\n",
      "Requirement already satisfied: numpy>=1.17.0; python_version >= \"3.7\" in c:\\users\\pushkin\\3dobjects\\lib\\site-packages (from opencv-python) (1.23.0)\n"
     ]
    }
   ],
   "source": [
    "!pip install opencv-python"
   ]
  },
  {
   "cell_type": "code",
   "execution_count": 1,
   "metadata": {},
   "outputs": [],
   "source": [
    "import cv2"
   ]
  },
  {
   "cell_type": "code",
   "execution_count": 2,
   "metadata": {},
   "outputs": [],
   "source": [
    "import time,argparse,os"
   ]
  },
  {
   "cell_type": "code",
   "execution_count": 3,
   "metadata": {},
   "outputs": [],
   "source": [
    "from datetime import datetime"
   ]
  },
  {
   "cell_type": "code",
   "execution_count": 4,
   "metadata": {},
   "outputs": [],
   "source": [
    "face_cascade = cv2.CascadeClassifier(\"C:\\\\Users\\\\Pushkin\\\\Downloads\\\\haarcascade_frontalface_default.xml\")"
   ]
  },
  {
   "cell_type": "code",
   "execution_count": 5,
   "metadata": {},
   "outputs": [],
   "source": [
    "video = cv2.VideoCapture(0)"
   ]
  },
  {
   "cell_type": "code",
   "execution_count": 1,
   "metadata": {},
   "outputs": [
    {
     "name": "stdout",
     "output_type": "stream",
     "text": [
      "Video saved as 'output.mp4'\n"
     ]
    }
   ],
   "source": [
    "import cv2\n",
    "import os\n",
    "import argparse\n",
    "from datetime import datetime\n",
    "\n",
    "# Your code for initializing the face cascade classifier and the video capture should be here.\n",
    "face_cascade = cv2.CascadeClassifier(\"C:\\\\Users\\\\Pushkin\\\\Downloads\\\\haarcascade_frontalface_default.xml\")\n",
    "video = cv2.VideoCapture(0)\n",
    "# Create an empty list to store frames with rectangles\n",
    "frames_with_rectangles = []\n",
    "\n",
    "while True:\n",
    "    check, frame = video.read()\n",
    "    if frame is not None:\n",
    "        gray = cv2.cvtColor(frame, cv2.COLOR_BGR2GRAY)  # Convert to grayscale\n",
    "        faces = face_cascade.detectMultiScale(gray, scaleFactor=1.1, minNeighbors=10)\n",
    "\n",
    "        for x, y, w, h in faces:  # Drawing green rectangle around face\n",
    "            cv2.rectangle(frame, (x, y), (x+w, y+h), (0, 255, 0), 3)\n",
    "\n",
    "        cv2.imshow(\"home surv\", frame)\n",
    "        key = cv2.waitKey(1)\n",
    "\n",
    "        if key == ord('q'):\n",
    "            break  # Exit the while loop when 'q' key is pressed.\n",
    "            \n",
    "        # Append the current frame with rectangles to the list\n",
    "        frames_with_rectangles.append(frame)\n",
    "\n",
    "# Release the video capture and close all windows.\n",
    "video.release()\n",
    "cv2.destroyAllWindows()\n",
    "\n",
    "# Code for creating the output video.\n",
    "if frames_with_rectangles:\n",
    "    output_video_path = \"output.mp4\"\n",
    "    height, width, _ = frames_with_rectangles[0].shape\n",
    "    fourcc = cv2.VideoWriter_fourcc(*'mp4v')\n",
    "    out = cv2.VideoWriter(output_video_path, fourcc, 5.0, (width, height))\n",
    "\n",
    "    for frame in frames_with_rectangles:\n",
    "        out.write(frame)\n",
    "\n",
    "    out.release()\n",
    "    print(f\"Video saved as '{output_video_path}'\")\n",
    "else:\n",
    "    print(\"No frames with rectangles to create the video.\")\n"
   ]
  },
  {
   "cell_type": "code",
   "execution_count": null,
   "metadata": {},
   "outputs": [],
   "source": []
  }
 ],
 "metadata": {
  "kernelspec": {
   "display_name": "Python 3",
   "language": "python",
   "name": "python3"
  },
  "language_info": {
   "codemirror_mode": {
    "name": "ipython",
    "version": 3
   },
   "file_extension": ".py",
   "mimetype": "text/x-python",
   "name": "python",
   "nbconvert_exporter": "python",
   "pygments_lexer": "ipython3",
   "version": "3.8.5"
  }
 },
 "nbformat": 4,
 "nbformat_minor": 4
}
